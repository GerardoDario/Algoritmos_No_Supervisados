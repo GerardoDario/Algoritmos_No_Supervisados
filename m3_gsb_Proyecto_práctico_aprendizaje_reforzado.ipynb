{
  "cells": [
    {
      "cell_type": "markdown",
      "metadata": {
        "id": "view-in-github",
        "colab_type": "text"
      },
      "source": [
        "<a href=\"https://colab.research.google.com/github/GerardoDario/Algoritmos_No_Supervisados/blob/main/m3_gsb_Proyecto_pra%CC%81ctico_aprendizaje_reforzado.ipynb\" target=\"_parent\"><img src=\"https://colab.research.google.com/assets/colab-badge.svg\" alt=\"Open In Colab\"/></a>"
      ]
    },
    {
      "cell_type": "markdown",
      "source": [
        "# Actividad - Proyecto práctico\n",
        "\n",
        "\n",
        "> La actividad se desarrollará en grupos pre-definidos de 2-3 alumnos. Se debe indicar los nombres en orden alfabético (de apellidos). Recordad que esta actividad se corresponde con un 30% de la nota final de la asignatura. Se debe entregar entregar el trabajo en la presente notebook.\n",
        "*   Alumno 1: Gerardo Sepúlveda\n",
        "*   Alumno 2: Gema Zumba\n",
        "*   Alumno 3: Renzo Fernandez\n",
        "\n",
        "\n",
        "\n",
        "\n"
      ],
      "metadata": {
        "id": "jUehXgCyIRdq"
      }
    },
    {
      "cell_type": "markdown",
      "source": [
        "---\n",
        "## **PARTE 1** - Instalación y requisitos previos\n",
        "\n",
        "> Las prácticas han sido preparadas para poder realizarse en el entorno de trabajo de Google Colab. Sin embargo, esta plataforma presenta ciertas incompatibilidades a la hora de visualizar la renderización en gym. Por ello, para obtener estas visualizaciones, se deberá trasladar el entorno de trabajo a local. Por ello, el presente dosier presenta instrucciones para poder trabajar en ambos entornos. Siga los siguientes pasos para un correcto funcionamiento:\n",
        "1.   **LOCAL:** Preparar el enviroment, siguiendo las intrucciones detalladas en la sección *1.1.Preparar enviroment*.\n",
        "2.  **AMBOS:** Modificar las variables \"mount\" y \"drive_mount\" a la carpeta de trabajo en drive en el caso de estar en Colab, y ejecturar la celda *1.2.Localizar entorno de trabajo*.\n",
        "3. **COLAB:** se deberá ejecutar las celdas correspondientes al montaje de la carpeta de trabajo en Drive. Esta corresponde a la sección *1.3.Montar carpeta de datos local*.\n",
        "4.  **AMBOS:** Instalar las librerías necesarias, siguiendo la sección *1.4.Instalar librerías necesarias*.\n"
      ],
      "metadata": {
        "id": "JwpYlnjWJhS9"
      }
    },
    {
      "cell_type": "markdown",
      "source": [
        "---\n",
        "### 1.1. Preparar enviroment (solo local)\n",
        "\n",
        "\n",
        "\n",
        "> Para preparar el entorno de trabajo en local, se han seguido los siguientes pasos:\n",
        "1. En Windows, puede ser necesario instalar las C++ Build Tools. Para ello, siga los siguientes pasos: https://towardsdatascience.com/how-to-install-openai-gym-in-a-windows-environment-338969e24d30.\n",
        "2. Instalar Anaconda\n",
        "3. Siguiendo el código que se presenta comentado en la próxima celda: Crear un enviroment, cambiar la ruta de trabajo, e instalar librerías básicas.\n",
        "\n",
        "\n",
        "```\n",
        "conda create --name miar_rl python=3.8\n",
        "conda activate miar_rl\n",
        "cd \"PATH_TO_FOLDER\"\n",
        "conda install git\n",
        "pip install jupyter\n",
        "```\n",
        "\n",
        "\n",
        "4. Abrir la notebook con *jupyter-notebook*.\n",
        "\n",
        "\n",
        "\n",
        "```\n",
        "jupyter-notebook\n",
        "```\n"
      ],
      "metadata": {
        "id": "RU2BPrK2JkP0"
      }
    },
    {
      "cell_type": "markdown",
      "source": [
        "---\n",
        "### 1.2. Localizar entorno de trabajo: Google colab o local"
      ],
      "metadata": {
        "id": "w-kixNPiJqTc"
      }
    },
    {
      "cell_type": "code",
      "source": [
        "# ATENCIÓN!! Modificar ruta relativa a la práctica si es distinta (drive_root)\n",
        "mount='/content/gdrive'\n",
        "drive_root = mount + \"/My Drive/08_MIAR/actividades/proyecto practico\"\n",
        "\n",
        "try:\n",
        "  from google.colab import drive\n",
        "  IN_COLAB=True\n",
        "except:\n",
        "  IN_COLAB=False"
      ],
      "metadata": {
        "id": "S_YDFwZ-JscI"
      },
      "execution_count": 1,
      "outputs": []
    },
    {
      "cell_type": "markdown",
      "source": [
        "---\n",
        "### 1.3. Montar carpeta de datos local (solo Colab)"
      ],
      "metadata": {
        "id": "8Dp_a1iBJ0tf"
      }
    },
    {
      "cell_type": "code",
      "source": [
        "# Switch to the directory on the Google Drive that you want to use\n",
        "import os\n",
        "if IN_COLAB:\n",
        "  print(\"We're running Colab\")\n",
        "\n",
        "  if IN_COLAB:\n",
        "    # Mount the Google Drive at mount\n",
        "    print(\"Colab: mounting Google drive on \", mount)\n",
        "\n",
        "    drive.mount(mount)\n",
        "\n",
        "    # Create drive_root if it doesn't exist\n",
        "    create_drive_root = True\n",
        "    if create_drive_root:\n",
        "      print(\"\\nColab: making sure \", drive_root, \" exists.\")\n",
        "      os.makedirs(drive_root, exist_ok=True)\n",
        "\n",
        "    # Change to the directory\n",
        "    print(\"\\nColab: Changing directory to \", drive_root)\n",
        "    %cd $drive_root\n",
        "# Verify we're in the correct working directory\n",
        "%pwd\n",
        "print(\"Archivos en el directorio: \")\n",
        "print(os.listdir())"
      ],
      "metadata": {
        "id": "I6n7MIefJ21i",
        "colab": {
          "base_uri": "https://localhost:8080/"
        },
        "outputId": "16430ff4-41fb-45bd-e135-98656a9dbe54"
      },
      "execution_count": 2,
      "outputs": [
        {
          "output_type": "stream",
          "name": "stdout",
          "text": [
            "We're running Colab\n",
            "Colab: mounting Google drive on  /content/gdrive\n",
            "Mounted at /content/gdrive\n",
            "\n",
            "Colab: making sure  /content/gdrive/My Drive/08_MIAR/actividades/proyecto practico  exists.\n",
            "\n",
            "Colab: Changing directory to  /content/gdrive/My Drive/08_MIAR/actividades/proyecto practico\n",
            "/content/gdrive/My Drive/08_MIAR/actividades/proyecto practico\n",
            "Archivos en el directorio: \n",
            "['weights', 'checkpoints', 'logs', 'imgs']\n"
          ]
        }
      ]
    },
    {
      "cell_type": "markdown",
      "source": [
        "---\n",
        "### 1.4. Instalar librerías necesarias"
      ],
      "metadata": {
        "id": "i1ZSL5bpJ560"
      }
    },
    {
      "cell_type": "code",
      "source": [
        "if IN_COLAB:\n",
        "  %pip install gym==0.17.3\n",
        "  %pip install git+https://github.com/Kojoley/atari-py.git\n",
        "  %pip install keras-rl2==1.0.5\n",
        "  %pip install tensorflow==2.8\n",
        "else:\n",
        "  %pip install gym==0.17.3\n",
        "  %pip install git+https://github.com/Kojoley/atari-py.git\n",
        "  %pip install pyglet==1.5.0\n",
        "  %pip install h5py==3.1.0\n",
        "  %pip install Pillow==9.5.0\n",
        "  %pip install keras-rl2==1.0.5\n",
        "  %pip install Keras==2.2.4\n",
        "  %pip install tensorflow==2.5.3\n",
        "  %pip install torch==2.0.1\n",
        "  %pip install agents==1.4.0"
      ],
      "metadata": {
        "id": "UbVRjvHCJ8UF",
        "colab": {
          "base_uri": "https://localhost:8080/"
        },
        "outputId": "7a88ee26-f665-4da0-e1c1-fed0d95e8330"
      },
      "execution_count": 3,
      "outputs": [
        {
          "output_type": "stream",
          "name": "stdout",
          "text": [
            "Collecting gym==0.17.3\n",
            "  Downloading gym-0.17.3.tar.gz (1.6 MB)\n",
            "\u001b[2K     \u001b[90m━━━━━━━━━━━━━━━━━━━━━━━━━━━━━━━━━━━━━━━━\u001b[0m \u001b[32m1.6/1.6 MB\u001b[0m \u001b[31m6.9 MB/s\u001b[0m eta \u001b[36m0:00:00\u001b[0m\n",
            "\u001b[?25h  Preparing metadata (setup.py) ... \u001b[?25l\u001b[?25hdone\n",
            "Requirement already satisfied: scipy in /usr/local/lib/python3.10/dist-packages (from gym==0.17.3) (1.11.4)\n",
            "Requirement already satisfied: numpy>=1.10.4 in /usr/local/lib/python3.10/dist-packages (from gym==0.17.3) (1.25.2)\n",
            "Collecting pyglet<=1.5.0,>=1.4.0 (from gym==0.17.3)\n",
            "  Downloading pyglet-1.5.0-py2.py3-none-any.whl (1.0 MB)\n",
            "\u001b[2K     \u001b[90m━━━━━━━━━━━━━━━━━━━━━━━━━━━━━━━━━━━━━━━━\u001b[0m \u001b[32m1.0/1.0 MB\u001b[0m \u001b[31m11.9 MB/s\u001b[0m eta \u001b[36m0:00:00\u001b[0m\n",
            "\u001b[?25hCollecting cloudpickle<1.7.0,>=1.2.0 (from gym==0.17.3)\n",
            "  Downloading cloudpickle-1.6.0-py3-none-any.whl (23 kB)\n",
            "Requirement already satisfied: future in /usr/local/lib/python3.10/dist-packages (from pyglet<=1.5.0,>=1.4.0->gym==0.17.3) (0.18.3)\n",
            "Building wheels for collected packages: gym\n",
            "  Building wheel for gym (setup.py) ... \u001b[?25l\u001b[?25hdone\n",
            "  Created wheel for gym: filename=gym-0.17.3-py3-none-any.whl size=1654618 sha256=bd8df40fec7c9f032ee8fe12aa8d2dd766ecd885a78b306afa9aae373b6ae4ed\n",
            "  Stored in directory: /root/.cache/pip/wheels/af/4b/74/fcfc8238472c34d7f96508a63c962ff3ac9485a9a4137afd4e\n",
            "Successfully built gym\n",
            "Installing collected packages: pyglet, cloudpickle, gym\n",
            "  Attempting uninstall: cloudpickle\n",
            "    Found existing installation: cloudpickle 2.2.1\n",
            "    Uninstalling cloudpickle-2.2.1:\n",
            "      Successfully uninstalled cloudpickle-2.2.1\n",
            "  Attempting uninstall: gym\n",
            "    Found existing installation: gym 0.25.2\n",
            "    Uninstalling gym-0.25.2:\n",
            "      Successfully uninstalled gym-0.25.2\n",
            "\u001b[31mERROR: pip's dependency resolver does not currently take into account all the packages that are installed. This behaviour is the source of the following dependency conflicts.\n",
            "bigframes 1.8.0 requires cloudpickle>=2.0.0, but you have cloudpickle 1.6.0 which is incompatible.\u001b[0m\u001b[31m\n",
            "\u001b[0mSuccessfully installed cloudpickle-1.6.0 gym-0.17.3 pyglet-1.5.0\n",
            "Collecting git+https://github.com/Kojoley/atari-py.git\n",
            "  Cloning https://github.com/Kojoley/atari-py.git to /tmp/pip-req-build-wlmf0uq5\n",
            "  Running command git clone --filter=blob:none --quiet https://github.com/Kojoley/atari-py.git /tmp/pip-req-build-wlmf0uq5\n",
            "  Resolved https://github.com/Kojoley/atari-py.git to commit 86a1e05c0a95e9e6233c3a413521fdb34ca8a089\n",
            "  Preparing metadata (setup.py) ... \u001b[?25l\u001b[?25hdone\n",
            "Requirement already satisfied: numpy in /usr/local/lib/python3.10/dist-packages (from atari-py==1.2.2) (1.25.2)\n",
            "Building wheels for collected packages: atari-py\n",
            "  Building wheel for atari-py (setup.py) ... \u001b[?25l\u001b[?25hdone\n",
            "  Created wheel for atari-py: filename=atari_py-1.2.2-cp310-cp310-linux_x86_64.whl size=4738552 sha256=b1fa918c4d46c6819324edb51461018beaa68b704cc811aa55fe356aad0516bf\n",
            "  Stored in directory: /tmp/pip-ephem-wheel-cache-3zidqjbm/wheels/6c/9b/f1/8a80a63a233d6f4eb2e2ee8c7357f4875f21c3ffc7f2613f9f\n",
            "Successfully built atari-py\n",
            "Installing collected packages: atari-py\n",
            "Successfully installed atari-py-1.2.2\n",
            "Collecting keras-rl2==1.0.5\n",
            "  Downloading keras_rl2-1.0.5-py3-none-any.whl (52 kB)\n",
            "\u001b[2K     \u001b[90m━━━━━━━━━━━━━━━━━━━━━━━━━━━━━━━━━━━━━━━━\u001b[0m \u001b[32m52.1/52.1 kB\u001b[0m \u001b[31m1.9 MB/s\u001b[0m eta \u001b[36m0:00:00\u001b[0m\n",
            "\u001b[?25hRequirement already satisfied: tensorflow in /usr/local/lib/python3.10/dist-packages (from keras-rl2==1.0.5) (2.15.0)\n",
            "Requirement already satisfied: absl-py>=1.0.0 in /usr/local/lib/python3.10/dist-packages (from tensorflow->keras-rl2==1.0.5) (1.4.0)\n",
            "Requirement already satisfied: astunparse>=1.6.0 in /usr/local/lib/python3.10/dist-packages (from tensorflow->keras-rl2==1.0.5) (1.6.3)\n",
            "Requirement already satisfied: flatbuffers>=23.5.26 in /usr/local/lib/python3.10/dist-packages (from tensorflow->keras-rl2==1.0.5) (24.3.25)\n",
            "Requirement already satisfied: gast!=0.5.0,!=0.5.1,!=0.5.2,>=0.2.1 in /usr/local/lib/python3.10/dist-packages (from tensorflow->keras-rl2==1.0.5) (0.5.4)\n",
            "Requirement already satisfied: google-pasta>=0.1.1 in /usr/local/lib/python3.10/dist-packages (from tensorflow->keras-rl2==1.0.5) (0.2.0)\n",
            "Requirement already satisfied: h5py>=2.9.0 in /usr/local/lib/python3.10/dist-packages (from tensorflow->keras-rl2==1.0.5) (3.9.0)\n",
            "Requirement already satisfied: libclang>=13.0.0 in /usr/local/lib/python3.10/dist-packages (from tensorflow->keras-rl2==1.0.5) (18.1.1)\n",
            "Requirement already satisfied: ml-dtypes~=0.2.0 in /usr/local/lib/python3.10/dist-packages (from tensorflow->keras-rl2==1.0.5) (0.2.0)\n",
            "Requirement already satisfied: numpy<2.0.0,>=1.23.5 in /usr/local/lib/python3.10/dist-packages (from tensorflow->keras-rl2==1.0.5) (1.25.2)\n",
            "Requirement already satisfied: opt-einsum>=2.3.2 in /usr/local/lib/python3.10/dist-packages (from tensorflow->keras-rl2==1.0.5) (3.3.0)\n",
            "Requirement already satisfied: packaging in /usr/local/lib/python3.10/dist-packages (from tensorflow->keras-rl2==1.0.5) (24.1)\n",
            "Requirement already satisfied: protobuf!=4.21.0,!=4.21.1,!=4.21.2,!=4.21.3,!=4.21.4,!=4.21.5,<5.0.0dev,>=3.20.3 in /usr/local/lib/python3.10/dist-packages (from tensorflow->keras-rl2==1.0.5) (3.20.3)\n",
            "Requirement already satisfied: setuptools in /usr/local/lib/python3.10/dist-packages (from tensorflow->keras-rl2==1.0.5) (67.7.2)\n",
            "Requirement already satisfied: six>=1.12.0 in /usr/local/lib/python3.10/dist-packages (from tensorflow->keras-rl2==1.0.5) (1.16.0)\n",
            "Requirement already satisfied: termcolor>=1.1.0 in /usr/local/lib/python3.10/dist-packages (from tensorflow->keras-rl2==1.0.5) (2.4.0)\n",
            "Requirement already satisfied: typing-extensions>=3.6.6 in /usr/local/lib/python3.10/dist-packages (from tensorflow->keras-rl2==1.0.5) (4.12.2)\n",
            "Requirement already satisfied: wrapt<1.15,>=1.11.0 in /usr/local/lib/python3.10/dist-packages (from tensorflow->keras-rl2==1.0.5) (1.14.1)\n",
            "Requirement already satisfied: tensorflow-io-gcs-filesystem>=0.23.1 in /usr/local/lib/python3.10/dist-packages (from tensorflow->keras-rl2==1.0.5) (0.37.0)\n",
            "Requirement already satisfied: grpcio<2.0,>=1.24.3 in /usr/local/lib/python3.10/dist-packages (from tensorflow->keras-rl2==1.0.5) (1.64.1)\n",
            "Requirement already satisfied: tensorboard<2.16,>=2.15 in /usr/local/lib/python3.10/dist-packages (from tensorflow->keras-rl2==1.0.5) (2.15.2)\n",
            "Requirement already satisfied: tensorflow-estimator<2.16,>=2.15.0 in /usr/local/lib/python3.10/dist-packages (from tensorflow->keras-rl2==1.0.5) (2.15.0)\n",
            "Requirement already satisfied: keras<2.16,>=2.15.0 in /usr/local/lib/python3.10/dist-packages (from tensorflow->keras-rl2==1.0.5) (2.15.0)\n",
            "Requirement already satisfied: wheel<1.0,>=0.23.0 in /usr/local/lib/python3.10/dist-packages (from astunparse>=1.6.0->tensorflow->keras-rl2==1.0.5) (0.43.0)\n",
            "Requirement already satisfied: google-auth<3,>=1.6.3 in /usr/local/lib/python3.10/dist-packages (from tensorboard<2.16,>=2.15->tensorflow->keras-rl2==1.0.5) (2.27.0)\n",
            "Requirement already satisfied: google-auth-oauthlib<2,>=0.5 in /usr/local/lib/python3.10/dist-packages (from tensorboard<2.16,>=2.15->tensorflow->keras-rl2==1.0.5) (1.2.0)\n",
            "Requirement already satisfied: markdown>=2.6.8 in /usr/local/lib/python3.10/dist-packages (from tensorboard<2.16,>=2.15->tensorflow->keras-rl2==1.0.5) (3.6)\n",
            "Requirement already satisfied: requests<3,>=2.21.0 in /usr/local/lib/python3.10/dist-packages (from tensorboard<2.16,>=2.15->tensorflow->keras-rl2==1.0.5) (2.31.0)\n",
            "Requirement already satisfied: tensorboard-data-server<0.8.0,>=0.7.0 in /usr/local/lib/python3.10/dist-packages (from tensorboard<2.16,>=2.15->tensorflow->keras-rl2==1.0.5) (0.7.2)\n",
            "Requirement already satisfied: werkzeug>=1.0.1 in /usr/local/lib/python3.10/dist-packages (from tensorboard<2.16,>=2.15->tensorflow->keras-rl2==1.0.5) (3.0.3)\n",
            "Requirement already satisfied: cachetools<6.0,>=2.0.0 in /usr/local/lib/python3.10/dist-packages (from google-auth<3,>=1.6.3->tensorboard<2.16,>=2.15->tensorflow->keras-rl2==1.0.5) (5.3.3)\n",
            "Requirement already satisfied: pyasn1-modules>=0.2.1 in /usr/local/lib/python3.10/dist-packages (from google-auth<3,>=1.6.3->tensorboard<2.16,>=2.15->tensorflow->keras-rl2==1.0.5) (0.4.0)\n",
            "Requirement already satisfied: rsa<5,>=3.1.4 in /usr/local/lib/python3.10/dist-packages (from google-auth<3,>=1.6.3->tensorboard<2.16,>=2.15->tensorflow->keras-rl2==1.0.5) (4.9)\n",
            "Requirement already satisfied: requests-oauthlib>=0.7.0 in /usr/local/lib/python3.10/dist-packages (from google-auth-oauthlib<2,>=0.5->tensorboard<2.16,>=2.15->tensorflow->keras-rl2==1.0.5) (1.3.1)\n",
            "Requirement already satisfied: charset-normalizer<4,>=2 in /usr/local/lib/python3.10/dist-packages (from requests<3,>=2.21.0->tensorboard<2.16,>=2.15->tensorflow->keras-rl2==1.0.5) (3.3.2)\n",
            "Requirement already satisfied: idna<4,>=2.5 in /usr/local/lib/python3.10/dist-packages (from requests<3,>=2.21.0->tensorboard<2.16,>=2.15->tensorflow->keras-rl2==1.0.5) (3.7)\n",
            "Requirement already satisfied: urllib3<3,>=1.21.1 in /usr/local/lib/python3.10/dist-packages (from requests<3,>=2.21.0->tensorboard<2.16,>=2.15->tensorflow->keras-rl2==1.0.5) (2.0.7)\n",
            "Requirement already satisfied: certifi>=2017.4.17 in /usr/local/lib/python3.10/dist-packages (from requests<3,>=2.21.0->tensorboard<2.16,>=2.15->tensorflow->keras-rl2==1.0.5) (2024.6.2)\n",
            "Requirement already satisfied: MarkupSafe>=2.1.1 in /usr/local/lib/python3.10/dist-packages (from werkzeug>=1.0.1->tensorboard<2.16,>=2.15->tensorflow->keras-rl2==1.0.5) (2.1.5)\n",
            "Requirement already satisfied: pyasn1<0.7.0,>=0.4.6 in /usr/local/lib/python3.10/dist-packages (from pyasn1-modules>=0.2.1->google-auth<3,>=1.6.3->tensorboard<2.16,>=2.15->tensorflow->keras-rl2==1.0.5) (0.6.0)\n",
            "Requirement already satisfied: oauthlib>=3.0.0 in /usr/local/lib/python3.10/dist-packages (from requests-oauthlib>=0.7.0->google-auth-oauthlib<2,>=0.5->tensorboard<2.16,>=2.15->tensorflow->keras-rl2==1.0.5) (3.2.2)\n",
            "Installing collected packages: keras-rl2\n",
            "Successfully installed keras-rl2-1.0.5\n",
            "Collecting tensorflow==2.8\n",
            "  Downloading tensorflow-2.8.0-cp310-cp310-manylinux2010_x86_64.whl (497.6 MB)\n",
            "\u001b[2K     \u001b[90m━━━━━━━━━━━━━━━━━━━━━━━━━━━━━━━━━━━━━━━━\u001b[0m \u001b[32m497.6/497.6 MB\u001b[0m \u001b[31m3.0 MB/s\u001b[0m eta \u001b[36m0:00:00\u001b[0m\n",
            "\u001b[?25hRequirement already satisfied: absl-py>=0.4.0 in /usr/local/lib/python3.10/dist-packages (from tensorflow==2.8) (1.4.0)\n",
            "Requirement already satisfied: astunparse>=1.6.0 in /usr/local/lib/python3.10/dist-packages (from tensorflow==2.8) (1.6.3)\n",
            "Requirement already satisfied: flatbuffers>=1.12 in /usr/local/lib/python3.10/dist-packages (from tensorflow==2.8) (24.3.25)\n",
            "Requirement already satisfied: gast>=0.2.1 in /usr/local/lib/python3.10/dist-packages (from tensorflow==2.8) (0.5.4)\n",
            "Requirement already satisfied: google-pasta>=0.1.1 in /usr/local/lib/python3.10/dist-packages (from tensorflow==2.8) (0.2.0)\n",
            "Requirement already satisfied: h5py>=2.9.0 in /usr/local/lib/python3.10/dist-packages (from tensorflow==2.8) (3.9.0)\n",
            "Collecting keras-preprocessing>=1.1.1 (from tensorflow==2.8)\n",
            "  Downloading Keras_Preprocessing-1.1.2-py2.py3-none-any.whl (42 kB)\n",
            "\u001b[2K     \u001b[90m━━━━━━━━━━━━━━━━━━━━━━━━━━━━━━━━━━━━━━━━\u001b[0m \u001b[32m42.6/42.6 kB\u001b[0m \u001b[31m6.4 MB/s\u001b[0m eta \u001b[36m0:00:00\u001b[0m\n",
            "\u001b[?25hRequirement already satisfied: libclang>=9.0.1 in /usr/local/lib/python3.10/dist-packages (from tensorflow==2.8) (18.1.1)\n",
            "Requirement already satisfied: numpy>=1.20 in /usr/local/lib/python3.10/dist-packages (from tensorflow==2.8) (1.25.2)\n",
            "Requirement already satisfied: opt-einsum>=2.3.2 in /usr/local/lib/python3.10/dist-packages (from tensorflow==2.8) (3.3.0)\n",
            "Requirement already satisfied: protobuf>=3.9.2 in /usr/local/lib/python3.10/dist-packages (from tensorflow==2.8) (3.20.3)\n",
            "Requirement already satisfied: setuptools in /usr/local/lib/python3.10/dist-packages (from tensorflow==2.8) (67.7.2)\n",
            "Requirement already satisfied: six>=1.12.0 in /usr/local/lib/python3.10/dist-packages (from tensorflow==2.8) (1.16.0)\n",
            "Requirement already satisfied: termcolor>=1.1.0 in /usr/local/lib/python3.10/dist-packages (from tensorflow==2.8) (2.4.0)\n",
            "Requirement already satisfied: typing-extensions>=3.6.6 in /usr/local/lib/python3.10/dist-packages (from tensorflow==2.8) (4.12.2)\n",
            "Requirement already satisfied: wrapt>=1.11.0 in /usr/local/lib/python3.10/dist-packages (from tensorflow==2.8) (1.14.1)\n",
            "Collecting tensorboard<2.9,>=2.8 (from tensorflow==2.8)\n",
            "  Downloading tensorboard-2.8.0-py3-none-any.whl (5.8 MB)\n",
            "\u001b[2K     \u001b[90m━━━━━━━━━━━━━━━━━━━━━━━━━━━━━━━━━━━━━━━━\u001b[0m \u001b[32m5.8/5.8 MB\u001b[0m \u001b[31m103.4 MB/s\u001b[0m eta \u001b[36m0:00:00\u001b[0m\n",
            "\u001b[?25hCollecting tf-estimator-nightly==2.8.0.dev2021122109 (from tensorflow==2.8)\n",
            "  Downloading tf_estimator_nightly-2.8.0.dev2021122109-py2.py3-none-any.whl (462 kB)\n",
            "\u001b[2K     \u001b[90m━━━━━━━━━━━━━━━━━━━━━━━━━━━━━━━━━━━━━━━━\u001b[0m \u001b[32m462.5/462.5 kB\u001b[0m \u001b[31m50.3 MB/s\u001b[0m eta \u001b[36m0:00:00\u001b[0m\n",
            "\u001b[?25hCollecting keras<2.9,>=2.8.0rc0 (from tensorflow==2.8)\n",
            "  Downloading keras-2.8.0-py2.py3-none-any.whl (1.4 MB)\n",
            "\u001b[2K     \u001b[90m━━━━━━━━━━━━━━━━━━━━━━━━━━━━━━━━━━━━━━━━\u001b[0m \u001b[32m1.4/1.4 MB\u001b[0m \u001b[31m75.9 MB/s\u001b[0m eta \u001b[36m0:00:00\u001b[0m\n",
            "\u001b[?25hRequirement already satisfied: tensorflow-io-gcs-filesystem>=0.23.1 in /usr/local/lib/python3.10/dist-packages (from tensorflow==2.8) (0.37.0)\n",
            "Requirement already satisfied: grpcio<2.0,>=1.24.3 in /usr/local/lib/python3.10/dist-packages (from tensorflow==2.8) (1.64.1)\n",
            "Requirement already satisfied: wheel<1.0,>=0.23.0 in /usr/local/lib/python3.10/dist-packages (from astunparse>=1.6.0->tensorflow==2.8) (0.43.0)\n",
            "Requirement already satisfied: google-auth<3,>=1.6.3 in /usr/local/lib/python3.10/dist-packages (from tensorboard<2.9,>=2.8->tensorflow==2.8) (2.27.0)\n",
            "Collecting google-auth-oauthlib<0.5,>=0.4.1 (from tensorboard<2.9,>=2.8->tensorflow==2.8)\n",
            "  Downloading google_auth_oauthlib-0.4.6-py2.py3-none-any.whl (18 kB)\n",
            "Requirement already satisfied: markdown>=2.6.8 in /usr/local/lib/python3.10/dist-packages (from tensorboard<2.9,>=2.8->tensorflow==2.8) (3.6)\n",
            "Requirement already satisfied: requests<3,>=2.21.0 in /usr/local/lib/python3.10/dist-packages (from tensorboard<2.9,>=2.8->tensorflow==2.8) (2.31.0)\n",
            "Collecting tensorboard-data-server<0.7.0,>=0.6.0 (from tensorboard<2.9,>=2.8->tensorflow==2.8)\n",
            "  Downloading tensorboard_data_server-0.6.1-py3-none-manylinux2010_x86_64.whl (4.9 MB)\n",
            "\u001b[2K     \u001b[90m━━━━━━━━━━━━━━━━━━━━━━━━━━━━━━━━━━━━━━━━\u001b[0m \u001b[32m4.9/4.9 MB\u001b[0m \u001b[31m107.3 MB/s\u001b[0m eta \u001b[36m0:00:00\u001b[0m\n",
            "\u001b[?25hCollecting tensorboard-plugin-wit>=1.6.0 (from tensorboard<2.9,>=2.8->tensorflow==2.8)\n",
            "  Downloading tensorboard_plugin_wit-1.8.1-py3-none-any.whl (781 kB)\n",
            "\u001b[2K     \u001b[90m━━━━━━━━━━━━━━━━━━━━━━━━━━━━━━━━━━━━━━━━\u001b[0m \u001b[32m781.3/781.3 kB\u001b[0m \u001b[31m69.4 MB/s\u001b[0m eta \u001b[36m0:00:00\u001b[0m\n",
            "\u001b[?25hRequirement already satisfied: werkzeug>=0.11.15 in /usr/local/lib/python3.10/dist-packages (from tensorboard<2.9,>=2.8->tensorflow==2.8) (3.0.3)\n",
            "Requirement already satisfied: cachetools<6.0,>=2.0.0 in /usr/local/lib/python3.10/dist-packages (from google-auth<3,>=1.6.3->tensorboard<2.9,>=2.8->tensorflow==2.8) (5.3.3)\n",
            "Requirement already satisfied: pyasn1-modules>=0.2.1 in /usr/local/lib/python3.10/dist-packages (from google-auth<3,>=1.6.3->tensorboard<2.9,>=2.8->tensorflow==2.8) (0.4.0)\n",
            "Requirement already satisfied: rsa<5,>=3.1.4 in /usr/local/lib/python3.10/dist-packages (from google-auth<3,>=1.6.3->tensorboard<2.9,>=2.8->tensorflow==2.8) (4.9)\n",
            "Requirement already satisfied: requests-oauthlib>=0.7.0 in /usr/local/lib/python3.10/dist-packages (from google-auth-oauthlib<0.5,>=0.4.1->tensorboard<2.9,>=2.8->tensorflow==2.8) (1.3.1)\n",
            "Requirement already satisfied: charset-normalizer<4,>=2 in /usr/local/lib/python3.10/dist-packages (from requests<3,>=2.21.0->tensorboard<2.9,>=2.8->tensorflow==2.8) (3.3.2)\n",
            "Requirement already satisfied: idna<4,>=2.5 in /usr/local/lib/python3.10/dist-packages (from requests<3,>=2.21.0->tensorboard<2.9,>=2.8->tensorflow==2.8) (3.7)\n",
            "Requirement already satisfied: urllib3<3,>=1.21.1 in /usr/local/lib/python3.10/dist-packages (from requests<3,>=2.21.0->tensorboard<2.9,>=2.8->tensorflow==2.8) (2.0.7)\n",
            "Requirement already satisfied: certifi>=2017.4.17 in /usr/local/lib/python3.10/dist-packages (from requests<3,>=2.21.0->tensorboard<2.9,>=2.8->tensorflow==2.8) (2024.6.2)\n",
            "Requirement already satisfied: MarkupSafe>=2.1.1 in /usr/local/lib/python3.10/dist-packages (from werkzeug>=0.11.15->tensorboard<2.9,>=2.8->tensorflow==2.8) (2.1.5)\n",
            "Requirement already satisfied: pyasn1<0.7.0,>=0.4.6 in /usr/local/lib/python3.10/dist-packages (from pyasn1-modules>=0.2.1->google-auth<3,>=1.6.3->tensorboard<2.9,>=2.8->tensorflow==2.8) (0.6.0)\n",
            "Requirement already satisfied: oauthlib>=3.0.0 in /usr/local/lib/python3.10/dist-packages (from requests-oauthlib>=0.7.0->google-auth-oauthlib<0.5,>=0.4.1->tensorboard<2.9,>=2.8->tensorflow==2.8) (3.2.2)\n",
            "Installing collected packages: tf-estimator-nightly, tensorboard-plugin-wit, keras, tensorboard-data-server, keras-preprocessing, google-auth-oauthlib, tensorboard, tensorflow\n",
            "  Attempting uninstall: keras\n",
            "    Found existing installation: keras 2.15.0\n",
            "    Uninstalling keras-2.15.0:\n",
            "      Successfully uninstalled keras-2.15.0\n",
            "  Attempting uninstall: tensorboard-data-server\n",
            "    Found existing installation: tensorboard-data-server 0.7.2\n",
            "    Uninstalling tensorboard-data-server-0.7.2:\n",
            "      Successfully uninstalled tensorboard-data-server-0.7.2\n",
            "  Attempting uninstall: google-auth-oauthlib\n",
            "    Found existing installation: google-auth-oauthlib 1.2.0\n",
            "    Uninstalling google-auth-oauthlib-1.2.0:\n",
            "      Successfully uninstalled google-auth-oauthlib-1.2.0\n",
            "  Attempting uninstall: tensorboard\n",
            "    Found existing installation: tensorboard 2.15.2\n",
            "    Uninstalling tensorboard-2.15.2:\n",
            "      Successfully uninstalled tensorboard-2.15.2\n",
            "  Attempting uninstall: tensorflow\n",
            "    Found existing installation: tensorflow 2.15.0\n",
            "    Uninstalling tensorflow-2.15.0:\n",
            "      Successfully uninstalled tensorflow-2.15.0\n",
            "\u001b[31mERROR: pip's dependency resolver does not currently take into account all the packages that are installed. This behaviour is the source of the following dependency conflicts.\n",
            "pandas-gbq 0.19.2 requires google-auth-oauthlib>=0.7.0, but you have google-auth-oauthlib 0.4.6 which is incompatible.\n",
            "tf-keras 2.15.1 requires tensorflow<2.16,>=2.15, but you have tensorflow 2.8.0 which is incompatible.\u001b[0m\u001b[31m\n",
            "\u001b[0mSuccessfully installed google-auth-oauthlib-0.4.6 keras-2.8.0 keras-preprocessing-1.1.2 tensorboard-2.8.0 tensorboard-data-server-0.6.1 tensorboard-plugin-wit-1.8.1 tensorflow-2.8.0 tf-estimator-nightly-2.8.0.dev2021122109\n"
          ]
        }
      ]
    },
    {
      "cell_type": "markdown",
      "metadata": {
        "id": "4hzP_5ZuGb2X"
      },
      "source": [
        "---\n",
        "## **PARTE 2**. Enunciado\n",
        "\n",
        "Consideraciones a tener en cuenta:\n",
        "\n",
        "- El entorno sobre el que trabajaremos será _SpaceInvaders-v0_ y el algoritmo que usaremos será _DQN_.\n",
        "\n",
        "- Para nuestro ejercicio, el requisito mínimo será alcanzado cuando el agente consiga una **media de recompensa por encima de 20 puntos en modo test**. Por ello, esta media de la recompensa se calculará a partir del código de test en la última celda del notebook.\n",
        "\n",
        "Este proyecto práctico consta de tres partes:\n",
        "\n",
        "1.   Implementar la red neuronal que se usará en la solución\n",
        "2.   Implementar las distintas piezas de la solución DQN\n",
        "3.   Justificar la respuesta en relación a los resultados obtenidos\n",
        "\n",
        "**Rúbrica**: Se valorará la originalidad en la solución aportada, así como la capacidad de discutir los resultados de forma detallada. El requisito mínimo servirá para aprobar la actividad, bajo premisa de que la discusión del resultado sera apropiada.\n",
        "\n",
        "IMPORTANTE:\n",
        "\n",
        "* Si no se consigue una puntuación óptima, responder sobre la mejor puntuación obtenida.\n",
        "* Para entrenamientos largos, recordad que podéis usar checkpoints de vuestros modelos para retomar los entrenamientos. En este caso, recordad cambiar los parámetros adecuadamente (sobre todo los relacionados con el proceso de exploración).\n",
        "* Se deberá entregar unicamente el notebook y los pesos del mejor modelo en un fichero .zip, de forma organizada.\n",
        "* Cada alumno deberá de subir la solución de forma individual."
      ]
    },
    {
      "cell_type": "markdown",
      "source": [
        "---\n",
        "## **PARTE 3**. Desarrollo y preguntas"
      ],
      "metadata": {
        "id": "6_b3mzw8IzJP"
      }
    },
    {
      "cell_type": "markdown",
      "metadata": {
        "id": "duPmUNOVGb2a"
      },
      "source": [
        "#### Importar librerías"
      ]
    },
    {
      "cell_type": "code",
      "execution_count": 4,
      "metadata": {
        "id": "j3eRhgI-Gb2a"
      },
      "outputs": [],
      "source": [
        "from __future__ import division\n",
        "import os\n",
        "\n",
        "from PIL import Image\n",
        "import json\n",
        "import numpy as np\n",
        "import pandas as pd\n",
        "import matplotlib.pyplot as plt\n",
        "import gym\n",
        "\n",
        "from tensorflow.keras.models import Sequential\n",
        "from tensorflow.keras.layers import Dense, Activation, Flatten, Convolution2D, Permute,  MaxPooling2D, GlobalAveragePooling2D, LeakyReLU , BatchNormalization, Dropout, Conv2D\n",
        "from tensorflow.keras.optimizers import Adam\n",
        "from tensorflow.keras.regularizers import l2\n",
        "import tensorflow.keras.backend as K\n",
        "\n",
        "from rl.agents.dqn import DQNAgent\n",
        "from rl.policy import LinearAnnealedPolicy, BoltzmannQPolicy, EpsGreedyQPolicy\n",
        "from rl.memory import SequentialMemory\n",
        "from rl.core import Processor\n",
        "from rl.callbacks import FileLogger, ModelIntervalCheckpoint"
      ]
    },
    {
      "cell_type": "markdown",
      "metadata": {
        "id": "f4jgQjzoGb2a"
      },
      "source": [
        "#### Configuración base"
      ]
    },
    {
      "cell_type": "code",
      "source": [
        "INPUT_SHAPE = (84, 84)\n",
        "WINDOW_LENGTH = 4\n",
        "env_name = 'SpaceInvaders-v0'\n",
        "env = gym.make(env_name)"
      ],
      "metadata": {
        "id": "CyvQCW3OX02a"
      },
      "execution_count": 5,
      "outputs": []
    },
    {
      "cell_type": "code",
      "source": [
        "# Fijar semillas para reproducibilidad\n",
        "np.random.seed(123)\n",
        "env.seed(123)\n",
        "nb_actions = env.action_space.n"
      ],
      "metadata": {
        "id": "hJM_5YBzX3eV"
      },
      "execution_count": 6,
      "outputs": []
    },
    {
      "cell_type": "code",
      "execution_count": 7,
      "metadata": {
        "id": "9jGEZUcpGb2a"
      },
      "outputs": [],
      "source": [
        "class AtariProcessor(Processor):\n",
        "    def process_observation(self, observation):\n",
        "        assert observation.ndim == 3  # (height, width, channel)\n",
        "        img = Image.fromarray(observation)\n",
        "        img = img.resize(INPUT_SHAPE).convert('L')\n",
        "        processed_observation = np.array(img)\n",
        "        assert processed_observation.shape == INPUT_SHAPE\n",
        "        return processed_observation.astype('uint8')\n",
        "\n",
        "    def process_state_batch(self, batch):\n",
        "        processed_batch = batch.astype('float32') / 255.\n",
        "        return processed_batch\n",
        "\n",
        "    def process_reward(self, reward):\n",
        "        return np.clip(reward, -1., 1.)"
      ]
    },
    {
      "cell_type": "markdown",
      "metadata": {
        "id": "7yitXTADGb2b"
      },
      "source": [
        "1. Implementación de la red neuronal"
      ]
    },
    {
      "cell_type": "code",
      "execution_count": 8,
      "metadata": {
        "id": "O4GKrfWSGb2b"
      },
      "outputs": [],
      "source": [
        "#Diccionario de hiperrametros\n",
        "hiperparametros = {\n",
        "    \"hiperparametro1\": {\n",
        "        'learning_rate': 0.00025,\n",
        "        'memory_size': 100000,\n",
        "        'policy_steps': 100000,\n",
        "        'warmup_steps': 3000 , # acumular transiciones en base a interacciones aleatorias\n",
        "        'model_update': 10000 ,\n",
        "        'model_checkpoint_steps': 20000,\n",
        "        'train_steps': 350000,\n",
        "        'log_interval': 10000,\n",
        "        'gamma': 0.99,\n",
        "        'enable_dueling_network': True,\n",
        "        'dueling_type': 'avg'\n",
        "    },\n",
        "    \"hiperparametro1_g\": { # Probar cambiar hp, arquitectura de red -> menos params para ejecutar mas rapido\n",
        "        'learning_rate': 0.0001,\n",
        "        'memory_size': 120000, # aumentar banco de memoria\n",
        "        'policy_steps': 100000,\n",
        "        'warmup_steps': 3500 , # acumular transiciones en base a interacciones aleatorias, probar con mas o menos\n",
        "        'model_update': 10000 ,\n",
        "        'model_checkpoint_steps': 20000,\n",
        "        'train_steps': 350000,\n",
        "        'log_interval': 10000,\n",
        "        'gamma': 0.99,\n",
        "        'enable_dueling_network': True,\n",
        "        'dueling_type': 'avg'\n",
        "    },\n",
        "\n",
        "    \"hiperparametro1_g2\": { # Probar cambiar hp, arquitectura de red -> menos params para ejecutar mas rapido\n",
        "        'learning_rate': 0.0001,\n",
        "        'memory_size': 200000, # aumentar banco de memoria\n",
        "        'policy_steps': 100000,\n",
        "        'warmup_steps': 5000 , # acumular transiciones en base a interacciones aleatorias, probar con mas o menos\n",
        "        'model_update': 10000 ,\n",
        "        'model_checkpoint_steps': 20000,\n",
        "        'train_steps': 350000,\n",
        "        'log_interval': 10000,\n",
        "        'gamma': 0.99,\n",
        "        'enable_dueling_network': True,\n",
        "        'dueling_type': 'avg'\n",
        "    },\n",
        "\n",
        "    \"hiperparametro2\": {\n",
        "        'learning_rate': 0.0001,\n",
        "        'memory_size': 60000,\n",
        "        'policy_steps': 100000,\n",
        "        'warmup_steps': 3000 ,\n",
        "        'model_update': 10000 ,\n",
        "        'model_checkpoint_steps': 20000,\n",
        "        'train_steps': 350000,\n",
        "        'log_interval': 10000,\n",
        "        'gamma': 0.99,\n",
        "        'enable_dueling_network': True,\n",
        "        'dueling_type': 'avg'\n",
        "    },\n",
        "        \"hiperparametro3\": {\n",
        "        'learning_rate': 0.003,\n",
        "        'memory_size': 75000,\n",
        "        'policy_steps': 900,\n",
        "        'warmup_steps': 75,\n",
        "        'model_update': 25,\n",
        "        'model_checkpoint_steps': 700,\n",
        "        'train_steps': 15000,\n",
        "        'log_interval': 100,\n",
        "        'gamma': 0.90,\n",
        "        'enable_dueling_network': True,\n",
        "        'dueling_type': 'min'\n",
        "    },\n",
        "        \"hiperparametro4\": {\n",
        "        'learning_rate': 0.0004,\n",
        "        'memory_size': 80000,\n",
        "        'policy_steps': 1000000,\n",
        "        'warmup_steps': 5000,\n",
        "        'model_update': 50,\n",
        "        'model_checkpoint_steps': 800,\n",
        "        'train_steps': 180000,\n",
        "        'log_interval': 20000,\n",
        "        'gamma': 0.85,\n",
        "        'enable_dueling_network': True,\n",
        "        'dueling_type': 'max'\n",
        "\n",
        "    },\n",
        "        \"hiperparametro5\": {\n",
        "        'learning_rate': 0.005,\n",
        "        'memory_size': 85000,\n",
        "        'policy_steps': 1100,\n",
        "        'warmup_steps': 90,\n",
        "        'model_update': 35,\n",
        "        'model_checkpoint_steps': 900,\n",
        "        'train_steps': 20000,\n",
        "        'log_interval': 150,\n",
        "        'gamma': 0.80,\n",
        "        'enable_dueling_network': True,\n",
        "        'dueling_type': 'max'\n",
        "    },\n",
        "         \"hiperparametro6\": {\n",
        "        'learning_rate': 0.006,\n",
        "        'memory_size': 90000,\n",
        "        'policy_steps': 1200,\n",
        "        'warmup_steps': 100,\n",
        "        'model_update': 40,\n",
        "        'model_checkpoint_steps': 1000,\n",
        "        'train_steps': 22000,\n",
        "        'log_interval': 175,\n",
        "        'gamma': 0.75,\n",
        "        'enable_dueling_network': False,\n",
        "        'dueling_type': 'min'\n",
        "    },\n",
        "\n",
        "}"
      ]
    },
    {
      "cell_type": "code",
      "source": [
        "# Función para actualizar las variables según los hiperparámetros actuales\n",
        "def actualizar_variables(hiperparametros):\n",
        "    global LEARNING_RATE, MEMORY_SIZE, POLICY_STEPS, WARMUP_STEPS, MODEL_UPDATE, \\\n",
        "           MODEL_CHECKPOINT_STEPS, TRAIN_STEPS, LOG_INTERVAL, GAMMA, DUELING, DUELING_TYPE\n",
        "\n",
        "    LEARNING_RATE = np.float32(hiperparametros['learning_rate'])\n",
        "    MEMORY_SIZE = int(hiperparametros['memory_size'])\n",
        "    POLICY_STEPS = np.int32(hiperparametros['policy_steps'])\n",
        "    WARMUP_STEPS = np.int32(hiperparametros['warmup_steps'])\n",
        "    MODEL_UPDATE = np.int32(hiperparametros['model_update'])\n",
        "    MODEL_CHECKPOINT_STEPS = np.int32(hiperparametros['model_checkpoint_steps'])\n",
        "    TRAIN_STEPS = np.int32(hiperparametros['train_steps'])\n",
        "    LOG_INTERVAL = np.int32(hiperparametros['log_interval'])\n",
        "    GAMMA = np.float32(hiperparametros['gamma'])\n",
        "    DUELING = bool(hiperparametros['enable_dueling_network'])\n",
        "    DUELING_TYPE = str(hiperparametros['dueling_type'])"
      ],
      "metadata": {
        "id": "Znn-d9Tn7_r5"
      },
      "execution_count": 9,
      "outputs": []
    },
    {
      "cell_type": "code",
      "source": [
        "print(\"El tamaño del espacio de acciones es: \",nb_actions,\" y son las siguientes:\")\n",
        "print(\"Formato de las observaciones:\", env.observation_space)"
      ],
      "metadata": {
        "colab": {
          "base_uri": "https://localhost:8080/"
        },
        "id": "D9n3EU2S8C6-",
        "outputId": "a80f7b1c-76b2-4878-b391-eaec527f46e0"
      },
      "execution_count": 10,
      "outputs": [
        {
          "output_type": "stream",
          "name": "stdout",
          "text": [
            "El tamaño del espacio de acciones es:  6  y son las siguientes:\n",
            "Formato de las observaciones: Box(0, 255, (210, 160, 3), uint8)\n"
          ]
        }
      ]
    },
    {
      "cell_type": "code",
      "source": [
        "env.unwrapped.get_action_meanings()"
      ],
      "metadata": {
        "colab": {
          "base_uri": "https://localhost:8080/"
        },
        "id": "zhYv1B-T8JgT",
        "outputId": "2d98c1c6-663d-452c-fc54-798a599b7987"
      },
      "execution_count": 11,
      "outputs": [
        {
          "output_type": "execute_result",
          "data": {
            "text/plain": [
              "['NOOP', 'FIRE', 'RIGHT', 'LEFT', 'RIGHTFIRE', 'LEFTFIRE']"
            ]
          },
          "metadata": {},
          "execution_count": 11
        }
      ]
    },
    {
      "cell_type": "markdown",
      "metadata": {
        "id": "OB9-_5HPGb2b"
      },
      "source": [
        "2. Implementación de la solución DQN"
      ]
    },
    {
      "cell_type": "code",
      "execution_count": 12,
      "metadata": {
        "id": "foSlxWH1Gb2b",
        "colab": {
          "base_uri": "https://localhost:8080/"
        },
        "outputId": "b9ebc3f7-6fdf-4101-da15-795562b4b8c4"
      },
      "outputs": [
        {
          "output_type": "stream",
          "name": "stdout",
          "text": [
            "LEARNING_RATE: 1e-04\n",
            "MEMORY_SIZE: 200000\n",
            "POLICY_STEPS: 100000\n",
            "WARMUP_STEPS: 5000\n",
            "MODEL_UPDATE: 10000\n",
            "MODEL_CHECKPOINT_STEPS: 20000\n",
            "TRAIN_STEPS: 350000\n",
            "LOG_INTERVAL: 10000\n",
            "GAMMA: 0.99\n",
            "DUELING: True\n",
            "DUELING_TYPE: avg\n"
          ]
        }
      ],
      "source": [
        "# actualiza los parámetros\n",
        "# Actualizar las variables con los hiperparámetros del modelo que desea, modehiperparametro1, hiperparametro2, modelohiperparametro3\n",
        "actualizar_variables(hiperparametros[\"hiperparametro1_g2\"]) # hiperparametro1_g, hiperparametro1\n",
        "# Imprimir las variables actualizadas\n",
        "print(\"LEARNING_RATE:\", LEARNING_RATE)\n",
        "print(\"MEMORY_SIZE:\", MEMORY_SIZE)\n",
        "print(\"POLICY_STEPS:\", POLICY_STEPS)\n",
        "print(\"WARMUP_STEPS:\", WARMUP_STEPS)\n",
        "print(\"MODEL_UPDATE:\", MODEL_UPDATE)\n",
        "print(\"MODEL_CHECKPOINT_STEPS:\", MODEL_CHECKPOINT_STEPS)\n",
        "print(\"TRAIN_STEPS:\", TRAIN_STEPS)\n",
        "print(\"LOG_INTERVAL:\", LOG_INTERVAL)\n",
        "print(\"GAMMA:\", GAMMA)\n",
        "print(\"DUELING:\", DUELING)\n",
        "print(\"DUELING_TYPE:\", DUELING_TYPE)"
      ]
    },
    {
      "cell_type": "code",
      "execution_count": 13,
      "metadata": {
        "id": "OHYryKd1Gb2b"
      },
      "outputs": [],
      "source": [
        "# Testing part to calculate the mean reward\n",
        "#weights_filename = 'dqn_{}_weights.h5f'.format(env_name)\n",
        "#dqn.load_weights(weights_filename)\n",
        "#dqn.test(env, nb_episodes=10, visualize=False)"
      ]
    },
    {
      "cell_type": "code",
      "source": [
        "# actualiza los parámetros\n",
        "actualizar_variables(hiperparametros[\"hiperparametro1_g2\"])"
      ],
      "metadata": {
        "id": "Uoww0lZUZEFA"
      },
      "execution_count": 14,
      "outputs": []
    },
    {
      "cell_type": "code",
      "source": [
        "model_name = 'm2'\n",
        "input_shape = (WINDOW_LENGTH,) + INPUT_SHAPE\n",
        "\n",
        "model = Sequential()\n",
        "\n",
        "print(K.image_data_format())\n",
        "\n",
        "if K.image_data_format() == 'channels_last':\n",
        "    model.add(Permute((2, 3, 1), input_shape=input_shape))\n",
        "elif K.image_data_format() == 'channels_first':\n",
        "    model.add(Permute((1, 2, 3), input_shape=input_shape))\n",
        "else:\n",
        "    raise RuntimeError('Unknown image_dim_ordering.')\n",
        "\n",
        "model.add(Convolution2D(32, (8, 8), strides=(4, 4)))\n",
        "model.add(Activation('relu'))\n",
        "\n",
        "model.add(Convolution2D(64, (4, 4), strides=(2, 2)))\n",
        "model.add(Activation('relu'))\n",
        "\n",
        "model.add(Convolution2D(64, (3, 3), strides=(1, 1)))\n",
        "model.add(Activation('relu'))\n",
        "\n",
        "model.add(Flatten())\n",
        "model.add(Dense(512))\n",
        "model.add(Activation('relu'))\n",
        "\n",
        "model.add(Dense(nb_actions))\n",
        "model.add(Activation('linear'))\n",
        "model.summary()"
      ],
      "metadata": {
        "colab": {
          "base_uri": "https://localhost:8080/"
        },
        "id": "D9P8AbmaZWU4",
        "outputId": "65090f73-5b40-4b88-9f15-de6b721cd7c0"
      },
      "execution_count": 15,
      "outputs": [
        {
          "output_type": "stream",
          "name": "stdout",
          "text": [
            "channels_last\n",
            "Model: \"sequential\"\n",
            "_________________________________________________________________\n",
            " Layer (type)                Output Shape              Param #   \n",
            "=================================================================\n",
            " permute (Permute)           (None, 84, 84, 4)         0         \n",
            "                                                                 \n",
            " conv2d (Conv2D)             (None, 20, 20, 32)        8224      \n",
            "                                                                 \n",
            " activation (Activation)     (None, 20, 20, 32)        0         \n",
            "                                                                 \n",
            " conv2d_1 (Conv2D)           (None, 9, 9, 64)          32832     \n",
            "                                                                 \n",
            " activation_1 (Activation)   (None, 9, 9, 64)          0         \n",
            "                                                                 \n",
            " conv2d_2 (Conv2D)           (None, 7, 7, 64)          36928     \n",
            "                                                                 \n",
            " activation_2 (Activation)   (None, 7, 7, 64)          0         \n",
            "                                                                 \n",
            " flatten (Flatten)           (None, 3136)              0         \n",
            "                                                                 \n",
            " dense (Dense)               (None, 512)               1606144   \n",
            "                                                                 \n",
            " activation_3 (Activation)   (None, 512)               0         \n",
            "                                                                 \n",
            " dense_1 (Dense)             (None, 6)                 3078      \n",
            "                                                                 \n",
            " activation_4 (Activation)   (None, 6)                 0         \n",
            "                                                                 \n",
            "=================================================================\n",
            "Total params: 1,687,206\n",
            "Trainable params: 1,687,206\n",
            "Non-trainable params: 0\n",
            "_________________________________________________________________\n"
          ]
        }
      ]
    },
    {
      "cell_type": "code",
      "source": [
        "memory = SequentialMemory(limit=MEMORY_SIZE, window_length=WINDOW_LENGTH)\n",
        "\n",
        "# si hay bastante estocasticidad empezar con una esp 0.3 para converger mas rapido\n",
        "# reducir steps totales\n",
        "# aumentar steps de warmup para tener buena memoria inicial\n",
        "\n",
        "policy = LinearAnnealedPolicy(EpsGreedyQPolicy(), attr='eps',\n",
        "                              value_max=1.0, value_min=0.1,\n",
        "                              value_test=0.05,\n",
        "                              nb_steps=POLICY_STEPS)\n",
        "processor = AtariProcessor()"
      ],
      "metadata": {
        "id": "FfVHIfUXZWSB"
      },
      "execution_count": 16,
      "outputs": []
    },
    {
      "cell_type": "code",
      "source": [
        "dqn = DQNAgent(model=model,\n",
        "               nb_actions=nb_actions,\n",
        "               policy=policy,\n",
        "               memory=memory,\n",
        "               processor=processor,\n",
        "               nb_steps_warmup=WARMUP_STEPS,\n",
        "               gamma=GAMMA,\n",
        "               target_model_update=MODEL_UPDATE,\n",
        "               train_interval=4,\n",
        "               enable_dueling_network=DUELING,\n",
        "               dueling_type=DUELING_TYPE)\n",
        "\n",
        "dqn.compile(Adam(learning_rate=LEARNING_RATE), metrics=['mae'])"
      ],
      "metadata": {
        "id": "z4bPQ3brZWPb"
      },
      "execution_count": 17,
      "outputs": []
    },
    {
      "cell_type": "code",
      "source": [
        "# Define the paths for weights, checkpoints, and logs\n",
        "WEIGHTS_PATH = 'weights/'\n",
        "CHECKPOINT_PATH = 'checkpoints/'\n",
        "LOGS_PATH = 'logs/'\n",
        "\n",
        "os.makedirs(WEIGHTS_PATH, exist_ok=True)\n",
        "os.makedirs(CHECKPOINT_PATH, exist_ok=True)\n",
        "os.makedirs(LOGS_PATH, exist_ok=True)\n",
        "\n",
        "# Definir rutas y nombres de archivo\n",
        "weights_filename = WEIGHTS_PATH  + 'm3_dqn_{}_weights.h5f'.format(env_name)\n",
        "checkpoint_weights_filename = CHECKPOINT_PATH  + 'm3_dqn_' + env_name + '_weights_{step}.h5f'\n",
        "log_filename = LOGS_PATH + 'm3_dqn_{}_log.json'.format(env_name)\n",
        "\n",
        "# Configurar callbacks\n",
        "callbacks = [ModelIntervalCheckpoint(checkpoint_weights_filename, interval=MODEL_CHECKPOINT_STEPS)]\n",
        "callbacks += [FileLogger(log_filename, interval=LOG_INTERVAL)]\n",
        "\n",
        "# Imprimir nombres de archivo para verificación\n",
        "print(weights_filename)\n",
        "print(checkpoint_weights_filename)\n",
        "print(log_filename)"
      ],
      "metadata": {
        "colab": {
          "base_uri": "https://localhost:8080/"
        },
        "id": "_AbusCmVZe7Y",
        "outputId": "a05fabc4-774d-4374-df34-4f4ea588ddec"
      },
      "execution_count": 18,
      "outputs": [
        {
          "output_type": "stream",
          "name": "stdout",
          "text": [
            "weights/m3_dqn_SpaceInvaders-v0_weights.h5f\n",
            "checkpoints/m3_dqn_SpaceInvaders-v0_weights_{step}.h5f\n",
            "logs/m3_dqn_SpaceInvaders-v0_log.json\n"
          ]
        }
      ]
    },
    {
      "cell_type": "code",
      "source": [
        "dqn.fit(env, callbacks=callbacks, nb_steps=TRAIN_STEPS, log_interval=LOG_INTERVAL, visualize=False, verbose=1)"
      ],
      "metadata": {
        "colab": {
          "base_uri": "https://localhost:8080/"
        },
        "id": "HYAUhQO8Z7a7",
        "outputId": "6d8b30c6-b856-4808-d5c3-b2375b4954b8"
      },
      "execution_count": 19,
      "outputs": [
        {
          "output_type": "stream",
          "name": "stdout",
          "text": [
            "Training for 350000 steps ...\n",
            "Interval 1 (0 steps performed)\n",
            "   24/10000 [..............................] - ETA: 45s - reward: 0.0000e+00"
          ]
        },
        {
          "output_type": "stream",
          "name": "stderr",
          "text": [
            "/usr/local/lib/python3.10/dist-packages/keras/engine/training_v1.py:2079: UserWarning: `Model.state_updates` will be removed in a future version. This property should not be used in TensorFlow 2.0, as `updates` are applied automatically.\n",
            "  updates=self.state_updates,\n"
          ]
        },
        {
          "output_type": "stream",
          "name": "stdout",
          "text": [
            "10000/10000 [==============================] - 185s 18ms/step - reward: 0.0141\n",
            "15 episodes - episode_reward: 9.133 [3.000, 15.000] - loss: 0.007 - mae: 0.054 - mean_q: 0.075 - mean_eps: 0.932 - ale.lives: 2.161\n",
            "\n",
            "Interval 2 (10000 steps performed)\n",
            "10000/10000 [==============================] - 319s 32ms/step - reward: 0.0133\n",
            "16 episodes - episode_reward: 8.562 [4.000, 14.000] - loss: 0.006 - mae: 0.067 - mean_q: 0.094 - mean_eps: 0.865 - ale.lives: 2.095\n",
            "\n",
            "Interval 3 (20000 steps performed)\n",
            "10000/10000 [==============================] - 318s 32ms/step - reward: 0.0144\n",
            "14 episodes - episode_reward: 9.786 [4.000, 24.000] - loss: 0.006 - mae: 0.092 - mean_q: 0.125 - mean_eps: 0.775 - ale.lives: 2.097\n",
            "\n",
            "Interval 4 (30000 steps performed)\n",
            "10000/10000 [==============================] - 320s 32ms/step - reward: 0.0148\n",
            "12 episodes - episode_reward: 12.250 [7.000, 17.000] - loss: 0.006 - mae: 0.111 - mean_q: 0.147 - mean_eps: 0.685 - ale.lives: 2.073\n",
            "\n",
            "Interval 5 (40000 steps performed)\n",
            "10000/10000 [==============================] - 320s 32ms/step - reward: 0.0155\n",
            "14 episodes - episode_reward: 11.643 [2.000, 28.000] - loss: 0.006 - mae: 0.135 - mean_q: 0.178 - mean_eps: 0.595 - ale.lives: 2.053\n",
            "\n",
            "Interval 6 (50000 steps performed)\n",
            "10000/10000 [==============================] - 318s 32ms/step - reward: 0.0140\n",
            "13 episodes - episode_reward: 10.231 [4.000, 18.000] - loss: 0.007 - mae: 0.167 - mean_q: 0.216 - mean_eps: 0.505 - ale.lives: 1.990\n",
            "\n",
            "Interval 7 (60000 steps performed)\n",
            "10000/10000 [==============================] - 318s 32ms/step - reward: 0.0145\n",
            "13 episodes - episode_reward: 11.615 [3.000, 27.000] - loss: 0.007 - mae: 0.215 - mean_q: 0.273 - mean_eps: 0.415 - ale.lives: 2.007\n",
            "\n",
            "Interval 8 (70000 steps performed)\n",
            "10000/10000 [==============================] - 321s 32ms/step - reward: 0.0172\n",
            "12 episodes - episode_reward: 13.750 [5.000, 21.000] - loss: 0.007 - mae: 0.244 - mean_q: 0.307 - mean_eps: 0.325 - ale.lives: 1.996\n",
            "\n",
            "Interval 9 (80000 steps performed)\n",
            "10000/10000 [==============================] - 323s 32ms/step - reward: 0.0136\n",
            "13 episodes - episode_reward: 11.000 [2.000, 20.000] - loss: 0.007 - mae: 0.257 - mean_q: 0.323 - mean_eps: 0.235 - ale.lives: 1.948\n",
            "\n",
            "Interval 10 (90000 steps performed)\n",
            "10000/10000 [==============================] - 324s 32ms/step - reward: 0.0159\n",
            "15 episodes - episode_reward: 10.667 [3.000, 20.000] - loss: 0.007 - mae: 0.278 - mean_q: 0.348 - mean_eps: 0.145 - ale.lives: 2.092\n",
            "\n",
            "Interval 11 (100000 steps performed)\n",
            "10000/10000 [==============================] - 326s 33ms/step - reward: 0.0161\n",
            "12 episodes - episode_reward: 13.417 [5.000, 21.000] - loss: 0.007 - mae: 0.308 - mean_q: 0.383 - mean_eps: 0.100 - ale.lives: 2.019\n",
            "\n",
            "Interval 12 (110000 steps performed)\n",
            "10000/10000 [==============================] - 327s 33ms/step - reward: 0.0154\n",
            "12 episodes - episode_reward: 11.667 [3.000, 20.000] - loss: 0.007 - mae: 0.330 - mean_q: 0.409 - mean_eps: 0.100 - ale.lives: 1.844\n",
            "\n",
            "Interval 13 (120000 steps performed)\n",
            "10000/10000 [==============================] - 327s 33ms/step - reward: 0.0149\n",
            "15 episodes - episode_reward: 10.867 [3.000, 19.000] - loss: 0.007 - mae: 0.336 - mean_q: 0.416 - mean_eps: 0.100 - ale.lives: 1.994\n",
            "\n",
            "Interval 14 (130000 steps performed)\n",
            "10000/10000 [==============================] - 321s 32ms/step - reward: 0.0181\n",
            "13 episodes - episode_reward: 13.154 [2.000, 26.000] - loss: 0.008 - mae: 0.370 - mean_q: 0.458 - mean_eps: 0.100 - ale.lives: 2.008\n",
            "\n",
            "Interval 15 (140000 steps performed)\n",
            "10000/10000 [==============================] - 322s 32ms/step - reward: 0.0163\n",
            "14 episodes - episode_reward: 11.929 [4.000, 20.000] - loss: 0.007 - mae: 0.392 - mean_q: 0.484 - mean_eps: 0.100 - ale.lives: 1.960\n",
            "\n",
            "Interval 16 (150000 steps performed)\n",
            "10000/10000 [==============================] - 323s 32ms/step - reward: 0.0135\n",
            "11 episodes - episode_reward: 12.000 [4.000, 24.000] - loss: 0.008 - mae: 0.420 - mean_q: 0.518 - mean_eps: 0.100 - ale.lives: 1.922\n",
            "\n",
            "Interval 17 (160000 steps performed)\n",
            "10000/10000 [==============================] - 323s 32ms/step - reward: 0.0175\n",
            "16 episodes - episode_reward: 11.250 [5.000, 17.000] - loss: 0.008 - mae: 0.442 - mean_q: 0.545 - mean_eps: 0.100 - ale.lives: 1.994\n",
            "\n",
            "Interval 18 (170000 steps performed)\n",
            "10000/10000 [==============================] - 327s 33ms/step - reward: 0.0166\n",
            "14 episodes - episode_reward: 12.143 [5.000, 29.000] - loss: 0.008 - mae: 0.470 - mean_q: 0.579 - mean_eps: 0.100 - ale.lives: 2.029\n",
            "\n",
            "Interval 19 (180000 steps performed)\n",
            "10000/10000 [==============================] - 327s 33ms/step - reward: 0.0155\n",
            "14 episodes - episode_reward: 11.071 [4.000, 24.000] - loss: 0.008 - mae: 0.483 - mean_q: 0.594 - mean_eps: 0.100 - ale.lives: 2.104\n",
            "\n",
            "Interval 20 (190000 steps performed)\n",
            "10000/10000 [==============================] - 327s 33ms/step - reward: 0.0173\n",
            "11 episodes - episode_reward: 14.727 [8.000, 32.000] - loss: 0.008 - mae: 0.501 - mean_q: 0.616 - mean_eps: 0.100 - ale.lives: 1.818\n",
            "\n",
            "Interval 21 (200000 steps performed)\n",
            "10000/10000 [==============================] - 326s 33ms/step - reward: 0.0163\n",
            "13 episodes - episode_reward: 13.077 [4.000, 25.000] - loss: 0.008 - mae: 0.528 - mean_q: 0.648 - mean_eps: 0.100 - ale.lives: 1.930\n",
            "\n",
            "Interval 22 (210000 steps performed)\n",
            "10000/10000 [==============================] - 328s 33ms/step - reward: 0.0172\n",
            "15 episodes - episode_reward: 11.333 [4.000, 22.000] - loss: 0.009 - mae: 0.558 - mean_q: 0.685 - mean_eps: 0.100 - ale.lives: 1.928\n",
            "\n",
            "Interval 23 (220000 steps performed)\n",
            "10000/10000 [==============================] - 326s 33ms/step - reward: 0.0159\n",
            "12 episodes - episode_reward: 13.000 [8.000, 18.000] - loss: 0.009 - mae: 0.566 - mean_q: 0.695 - mean_eps: 0.100 - ale.lives: 2.001\n",
            "\n",
            "Interval 24 (230000 steps performed)\n",
            "10000/10000 [==============================] - 330s 33ms/step - reward: 0.0182\n",
            "16 episodes - episode_reward: 11.250 [5.000, 21.000] - loss: 0.009 - mae: 0.578 - mean_q: 0.708 - mean_eps: 0.100 - ale.lives: 2.057\n",
            "\n",
            "Interval 25 (240000 steps performed)\n",
            "10000/10000 [==============================] - 328s 33ms/step - reward: 0.0162\n",
            "18 episodes - episode_reward: 9.278 [4.000, 17.000] - loss: 0.008 - mae: 0.583 - mean_q: 0.715 - mean_eps: 0.100 - ale.lives: 2.130\n",
            "\n",
            "Interval 26 (250000 steps performed)\n",
            "10000/10000 [==============================] - 329s 33ms/step - reward: 0.0184\n",
            "15 episodes - episode_reward: 12.333 [5.000, 20.000] - loss: 0.008 - mae: 0.595 - mean_q: 0.728 - mean_eps: 0.100 - ale.lives: 2.023\n",
            "\n",
            "Interval 27 (260000 steps performed)\n",
            "10000/10000 [==============================] - 327s 33ms/step - reward: 0.0165\n",
            "15 episodes - episode_reward: 10.333 [4.000, 25.000] - loss: 0.009 - mae: 0.610 - mean_q: 0.745 - mean_eps: 0.100 - ale.lives: 2.099\n",
            "\n",
            "Interval 28 (270000 steps performed)\n",
            "10000/10000 [==============================] - 327s 33ms/step - reward: 0.0167\n",
            "13 episodes - episode_reward: 13.308 [5.000, 24.000] - loss: 0.009 - mae: 0.638 - mean_q: 0.779 - mean_eps: 0.100 - ale.lives: 1.907\n",
            "\n",
            "Interval 29 (280000 steps performed)\n",
            "10000/10000 [==============================] - 327s 33ms/step - reward: 0.0196\n",
            "12 episodes - episode_reward: 16.667 [4.000, 33.000] - loss: 0.009 - mae: 0.667 - mean_q: 0.814 - mean_eps: 0.100 - ale.lives: 2.110\n",
            "\n",
            "Interval 30 (290000 steps performed)\n",
            "10000/10000 [==============================] - 328s 33ms/step - reward: 0.0183\n",
            "13 episodes - episode_reward: 13.846 [8.000, 27.000] - loss: 0.009 - mae: 0.682 - mean_q: 0.832 - mean_eps: 0.100 - ale.lives: 2.019\n",
            "\n",
            "Interval 31 (300000 steps performed)\n",
            "10000/10000 [==============================] - 327s 33ms/step - reward: 0.0177\n",
            "14 episodes - episode_reward: 12.714 [6.000, 23.000] - loss: 0.009 - mae: 0.710 - mean_q: 0.866 - mean_eps: 0.100 - ale.lives: 2.100\n",
            "\n",
            "Interval 32 (310000 steps performed)\n",
            "10000/10000 [==============================] - 327s 33ms/step - reward: 0.0192\n",
            "12 episodes - episode_reward: 16.000 [7.000, 30.000] - loss: 0.010 - mae: 0.732 - mean_q: 0.891 - mean_eps: 0.100 - ale.lives: 2.224\n",
            "\n",
            "Interval 33 (320000 steps performed)\n",
            "10000/10000 [==============================] - 329s 33ms/step - reward: 0.0157\n",
            "13 episodes - episode_reward: 12.538 [7.000, 19.000] - loss: 0.010 - mae: 0.767 - mean_q: 0.934 - mean_eps: 0.100 - ale.lives: 2.212\n",
            "\n",
            "Interval 34 (330000 steps performed)\n",
            "10000/10000 [==============================] - 326s 33ms/step - reward: 0.0184\n",
            "10 episodes - episode_reward: 17.300 [12.000, 27.000] - loss: 0.009 - mae: 0.782 - mean_q: 0.951 - mean_eps: 0.100 - ale.lives: 2.192\n",
            "\n",
            "Interval 35 (340000 steps performed)\n",
            "10000/10000 [==============================] - 326s 33ms/step - reward: 0.0204\n",
            "done, took 11225.278 seconds\n"
          ]
        },
        {
          "output_type": "execute_result",
          "data": {
            "text/plain": [
              "<keras.callbacks.History at 0x7ee4d011fc10>"
            ]
          },
          "metadata": {},
          "execution_count": 19
        }
      ]
    },
    {
      "cell_type": "code",
      "source": [
        "# Guardar los pesos finales del modelo\n",
        "try:\n",
        "    dqn.save_weights(weights_filename, overwrite=True)\n",
        "    print(\"Pesos guardados exitosamente.\")\n",
        "except Exception as e:\n",
        "    print(f\"Error al guardar los pesos: {e}\")"
      ],
      "metadata": {
        "id": "6dLP918RaKF-",
        "colab": {
          "base_uri": "https://localhost:8080/"
        },
        "outputId": "323f6de6-93a8-42de-add0-9f8cf0d09de3"
      },
      "execution_count": 20,
      "outputs": [
        {
          "output_type": "stream",
          "name": "stdout",
          "text": [
            "Pesos guardados exitosamente.\n"
          ]
        }
      ]
    },
    {
      "cell_type": "code",
      "source": [
        "# Prueba del agente\n",
        "dqn.load_weights(weights_filename.format(env_name))\n",
        "dqn.test(env, nb_episodes=10, visualize=False)"
      ],
      "metadata": {
        "id": "W6IgM8AfaL7m",
        "colab": {
          "base_uri": "https://localhost:8080/"
        },
        "outputId": "28454f78-12ef-46b6-eec5-d302850a2976"
      },
      "execution_count": 21,
      "outputs": [
        {
          "output_type": "stream",
          "name": "stdout",
          "text": [
            "Testing for 10 episodes ...\n",
            "Episode 1: reward: 21.000, steps: 887\n",
            "Episode 2: reward: 20.000, steps: 945\n",
            "Episode 3: reward: 28.000, steps: 1041\n",
            "Episode 4: reward: 12.000, steps: 555\n",
            "Episode 5: reward: 18.000, steps: 793\n",
            "Episode 6: reward: 9.000, steps: 409\n",
            "Episode 7: reward: 22.000, steps: 873\n",
            "Episode 8: reward: 11.000, steps: 650\n",
            "Episode 9: reward: 12.000, steps: 620\n",
            "Episode 10: reward: 20.000, steps: 870\n"
          ]
        },
        {
          "output_type": "execute_result",
          "data": {
            "text/plain": [
              "<keras.callbacks.History at 0x7ee4d00956f0>"
            ]
          },
          "metadata": {},
          "execution_count": 21
        }
      ]
    },
    {
      "cell_type": "code",
      "source": [
        "log_filename = LOGS_PATH + f'dqn_{env_name}_log.json'\n",
        "log_filename"
      ],
      "metadata": {
        "colab": {
          "base_uri": "https://localhost:8080/",
          "height": 35
        },
        "id": "iRXwOOm7psdM",
        "outputId": "98eb8f97-728d-4ab4-c172-2a243f49fa6e"
      },
      "execution_count": 22,
      "outputs": [
        {
          "output_type": "execute_result",
          "data": {
            "text/plain": [
              "'logs/dqn_SpaceInvaders-v0_log.json'"
            ],
            "application/vnd.google.colaboratory.intrinsic+json": {
              "type": "string"
            }
          },
          "metadata": {},
          "execution_count": 22
        }
      ]
    },
    {
      "cell_type": "code",
      "source": [
        "def graph_training(env_name, model_name, variable='mean_q'):\n",
        "    log_filename = LOGS_PATH + f'm3_dqn_{env_name}_log.json'\n",
        "    try:\n",
        "        with open(log_filename) as f:\n",
        "            data = json.load(f)\n",
        "    except FileNotFoundError:\n",
        "        print(f\"Error: El archivo {log_filename} no se encontró.\")\n",
        "        return\n",
        "    except json.JSONDecodeError:\n",
        "        print(f\"Error: No se pudo decodificar el archivo JSON {log_filename}.\")\n",
        "        return\n",
        "    try:\n",
        "        values = data[variable]\n",
        "    except KeyError:\n",
        "        print(f\"Error: La clave '{variable}' no se encontró en el archivo JSON.\")\n",
        "        return\n",
        "\n",
        "    plt.figure(figsize=(10, 6))\n",
        "    pd.DataFrame(values).plot(title=f\"{model_name}: Evolución - {variable}\", legend=False)\n",
        "    plt.xlabel('Steps')\n",
        "    plt.ylabel(variable.replace('_', ' ').title())\n",
        "    os.makedirs('imgs', exist_ok=True)\n",
        "    output_path = os.path.join('imgs', f'{model_name}_{env_name}_{variable}.png')\n",
        "    plt.savefig(output_path)\n",
        "    plt.show()"
      ],
      "metadata": {
        "id": "OLniI6AaoQWj"
      },
      "execution_count": 23,
      "outputs": []
    },
    {
      "cell_type": "code",
      "source": [
        "env_name"
      ],
      "metadata": {
        "colab": {
          "base_uri": "https://localhost:8080/",
          "height": 35
        },
        "id": "GQdfpeZdpXx-",
        "outputId": "ad7201c4-08c6-4802-cdb6-aade75e987c6"
      },
      "execution_count": 24,
      "outputs": [
        {
          "output_type": "execute_result",
          "data": {
            "text/plain": [
              "'SpaceInvaders-v0'"
            ],
            "application/vnd.google.colaboratory.intrinsic+json": {
              "type": "string"
            }
          },
          "metadata": {},
          "execution_count": 24
        }
      ]
    },
    {
      "cell_type": "code",
      "source": [
        "model_name"
      ],
      "metadata": {
        "colab": {
          "base_uri": "https://localhost:8080/",
          "height": 35
        },
        "id": "3exgnQ7jpblM",
        "outputId": "bca4a074-39a0-42e0-f16f-370047ddd9f3"
      },
      "execution_count": 25,
      "outputs": [
        {
          "output_type": "execute_result",
          "data": {
            "text/plain": [
              "'m2'"
            ],
            "application/vnd.google.colaboratory.intrinsic+json": {
              "type": "string"
            }
          },
          "metadata": {},
          "execution_count": 25
        }
      ]
    },
    {
      "cell_type": "code",
      "source": [
        "# Gráfico de evolución del entrenamiento\n",
        "graph_training(env_name, model_name, variable='episode_reward')\n",
        "graph_training(env_name, model_name, variable='mean_q')"
      ],
      "metadata": {
        "id": "hv2gaggXaNlo",
        "colab": {
          "base_uri": "https://localhost:8080/",
          "height": 962
        },
        "outputId": "f833fd61-3521-42d5-f160-84a9440f7440"
      },
      "execution_count": 26,
      "outputs": [
        {
          "output_type": "display_data",
          "data": {
            "text/plain": [
              "<Figure size 1000x600 with 0 Axes>"
            ]
          },
          "metadata": {}
        },
        {
          "output_type": "display_data",
          "data": {
            "text/plain": [
              "<Figure size 640x480 with 1 Axes>"
            ],
            "image/png": "[encoded data removed]"
          },
          "metadata": {}
        },
        {
          "output_type": "display_data",
          "data": {
            "text/plain": [
              "<Figure size 1000x600 with 0 Axes>"
            ]
          },
          "metadata": {}
        },
        {
          "output_type": "display_data",
          "data": {
            "text/plain": [
              "<Figure size 640x480 with 1 Axes>"
            ],
            "image/png": "[encoded data removed]"
          },
          "metadata": {}
        }
      ]
    },
    {
      "cell_type": "markdown",
      "metadata": {
        "id": "-NAlu8b1Gb2b"
      },
      "source": [
        "3. Justificación de los parámetros seleccionados y de los resultados obtenidos"
      ]
    },
    {
      "cell_type": "markdown",
      "source": [
        "---"
      ],
      "metadata": {
        "id": "ANFQiicXK3sO"
      }
    },
    {
      "cell_type": "code",
      "source": [],
      "metadata": {
        "id": "euVHCzNs8j9-"
      },
      "execution_count": 26,
      "outputs": []
    }
  ],
  "metadata": {
    "kernelspec": {
      "display_name": "Python 3",
      "name": "python3"
    },
    "language_info": {
      "codemirror_mode": {
        "name": "ipython",
        "version": 3
      },
      "file_extension": ".py",
      "mimetype": "text/x-python",
      "name": "python",
      "nbconvert_exporter": "python",
      "pygments_lexer": "ipython3",
      "version": "3.7.9"
    },
    "colab": {
      "provenance": [],
      "machine_shape": "hm",
      "gpuType": "T4",
      "include_colab_link": true
    },
    "accelerator": "GPU"
  },
  "nbformat": 4,
  "nbformat_minor": 0
}